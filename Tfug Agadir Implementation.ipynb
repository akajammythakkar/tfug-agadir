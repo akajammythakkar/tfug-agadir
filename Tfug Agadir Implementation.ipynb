{
  "cells": [
    {
      "cell_type": "markdown",
      "metadata": {
        "id": "view-in-github",
        "colab_type": "text"
      },
      "source": [
        "<a href=\"https://colab.research.google.com/github/akajammythakkar/tfug-agadir/blob/main/Tfug%20Agadir%20Implementation.ipynb\" target=\"_parent\"><img src=\"https://colab.research.google.com/assets/colab-badge.svg\" alt=\"Open In Colab\"/></a>"
      ]
    },
    {
      "cell_type": "markdown",
      "source": [
        "# Before proceeding, go to \"File\" and select option \"Save a copy in drive\" then and only then proceed. YOU WILL NOT BE ABLE TO SAVE CHANGES IN THIS NOTEBOOK"
      ],
      "metadata": {
        "id": "bP828NbQpWHc"
      }
    },
    {
      "cell_type": "markdown",
      "metadata": {
        "id": "rlE8UqxrDIez"
      },
      "source": [
        "### Install & import\n"
      ]
    },
    {
      "cell_type": "markdown",
      "metadata": {
        "id": "cZiU4TKzznh9",
        "outputId": "3971b7a3-422b-4c14-de90-4589a5b19eb2"
      },
      "source": [
        "!pip install google-generativeai"
      ]
    },
    {
      "cell_type": "code",
      "execution_count": null,
      "metadata": {
        "id": "kWIuwKG2_oWE"
      },
      "outputs": [],
      "source": [
        "# Install the client library and import necessary modules.\n",
        "#!pip install google-generativeai\n",
        "import google.generativeai as genai\n",
        "import json\n",
        "import pathlib\n",
        "import pprint\n",
        "import requests\n",
        "import mimetypes\n",
        "from IPython.display import Markdown"
      ]
    },
    {
      "cell_type": "markdown",
      "metadata": {
        "id": "qZsRPVv1ITbh"
      },
      "source": [
        "\n",
        "\n",
        "### Mount Google Drive"
      ]
    },
    {
      "cell_type": "markdown",
      "metadata": {
        "id": "Fet3lFjdKHEM"
      },
      "source": [
        "## Set the API key"
      ]
    },
    {
      "cell_type": "markdown",
      "metadata": {
        "id": "ZoRWILAtCzBE"
      },
      "source": [
        "\n",
        "## **Add your API_KEY to the secrets manager in the left pannel \"🔑\".**\n",
        "\n",
        "#### To get api key follw the steps:\n",
        "  - go to makersuite.google.com\n",
        "  - If you are a first time user then you'll be asked for privacy and agreement\n",
        "  - After accepting navigate to the left panel.\n",
        "  - You will find a button saying \"Get API Key\" placed exactly below google ai studio, click that.\n",
        "  - Then you will be redirected to API keys page.\n",
        "  - There will be a button saying \"Create API key in new project\", click that.\n",
        "  - After that you will get your api key in few moments.\n",
        "  - Copy that and paste it in key secrets in google colab."
      ]
    },
    {
      "cell_type": "markdown",
      "metadata": {
        "id": "LaLCwNlkCyQd"
      },
      "source": [
        "from google.colab import userdata\n",
        "\n",
        "API_KEY=userdata.get('API_KEY')"
      ]
    },
    {
      "cell_type": "code",
      "execution_count": null,
      "metadata": {
        "id": "_SvYoR3WCeKr"
      },
      "outputs": [],
      "source": [
        "# Configure the client library by providing your API key.\n",
        "genai.configure(api_key=\"Your_Api_Key\")"
      ]
    },
    {
      "cell_type": "markdown",
      "metadata": {
        "id": "weo-o73WDpdm"
      },
      "source": [
        "### Parse the arguments"
      ]
    },
    {
      "cell_type": "code",
      "execution_count": null,
      "metadata": {
        "colab": {
          "base_uri": "https://localhost:8080/",
          "height": 402
        },
        "id": "sdf61R_WGgUx",
        "outputId": "853f5c54-94cc-4028-dd4e-8118017afe4c"
      },
      "outputs": [
        {
          "data": {
            "text/markdown": [
              "Hello from DevFest Surat!\n",
              "\n",
              "I'm so excited to be here at DevFest Surat, one of the largest gatherings of developers in the region. This is a great opportunity to learn about the latest and greatest in technology, and to connect with other developers who are passionate about building amazing things.\n",
              "\n",
              "I'm particularly excited about the talks on artificial intelligence and machine learning. These technologies are rapidly changing the world, and it's important for developers to stay up-to-date on the latest developments. I'm also looking forward to the sessions on blockchain and decentralized applications. These technologies have the potential to revolutionize many industries, and I'm eager to learn more about them.\n",
              "\n",
              "In addition to the talks, there will be a number of workshops and hackathons. These are great opportunities to learn new skills and to collaborate with other developers on exciting projects. I'm also looking forward to the expo, where I'll be able to see the latest products and services from leading tech companies.\n",
              "\n",
              "I'm confident that DevFest Surat will be an amazing event. I'm looking forward to learning a lot, meeting new people, and having a great time.\n",
              "\n",
              "Here are some of the highlights of DevFest Surat 2023:\n",
              "\n",
              "* Keynote speakers: We have an amazing lineup of keynote speakers, including some of the top minds in technology.\n",
              "* Sessions: There will be over 100 sessions covering a wide range of topics, including artificial intelligence, machine learning, blockchain, decentralized applications, and more.\n",
              "* Workshops: There will be a number of workshops where you can learn new skills and build cool projects.\n",
              "* Hackathons: There will be two hackathons where you can compete for prizes and build amazing things.\n",
              "* Expo: The expo will feature the latest products and services from leading tech companies.\n",
              "* Networking: DevFest Surat is a great opportunity to meet other developers and learn from each other.\n",
              "\n",
              "I hope to see you at DevFest Surat 2023!"
            ],
            "text/plain": [
              "<IPython.core.display.Markdown object>"
            ]
          },
          "metadata": {},
          "output_type": "display_data"
        }
      ],
      "source": [
        "generation_config = {\n",
        "  \"temperature\": 0.9,\n",
        "  \"top_p\": 1,\n",
        "  \"top_k\": 1,\n",
        "  \"max_output_tokens\": 2048,\n",
        "}\n",
        "\n",
        "safety_settings = [\n",
        "  {\n",
        "    \"category\": \"HARM_CATEGORY_HARASSMENT\",\n",
        "    \"threshold\": \"BLOCK_MEDIUM_AND_ABOVE\"\n",
        "  },\n",
        "  {\n",
        "    \"category\": \"HARM_CATEGORY_HATE_SPEECH\",\n",
        "    \"threshold\": \"BLOCK_MEDIUM_AND_ABOVE\"\n",
        "  },\n",
        "  {\n",
        "    \"category\": \"HARM_CATEGORY_SEXUALLY_EXPLICIT\",\n",
        "    \"threshold\": \"BLOCK_MEDIUM_AND_ABOVE\"\n",
        "  },\n",
        "  {\n",
        "    \"category\": \"HARM_CATEGORY_DANGEROUS_CONTENT\",\n",
        "    \"threshold\": \"BLOCK_MEDIUM_AND_ABOVE\"\n",
        "  }\n",
        "]\n",
        "\n",
        "model = genai.GenerativeModel(model_name=\"gemini-pro\",\n",
        "                              generation_config=generation_config,\n",
        "                              safety_settings=safety_settings)\n",
        "\n",
        "prompt_parts = [\"Hello from DevFest Surat\"]\n",
        "\n",
        "response = model.generate_content(prompt_parts)\n",
        "display(Markdown(response.text))"
      ]
    },
    {
      "cell_type": "markdown",
      "metadata": {
        "id": "E7zAD69vE92b"
      },
      "source": [
        "### Call the API"
      ]
    },
    {
      "cell_type": "code",
      "execution_count": null,
      "metadata": {
        "id": "LB2LxPmAB95V"
      },
      "outputs": [],
      "source": [
        "# Call the model and print the response.\n",
        "gemini =  genai.GenerativeModel(model_name=\"gemini-pro\",\n",
        "                              generation_config=generation_config,\n",
        "                              safety_settings=safety_settings)"
      ]
    },
    {
      "cell_type": "code",
      "execution_count": null,
      "metadata": {
        "id": "lqMoCCRAlV3T"
      },
      "outputs": [],
      "source": [
        "chat = gemini.start_chat()"
      ]
    },
    {
      "cell_type": "code",
      "execution_count": null,
      "metadata": {
        "id": "4TG6RiVDlV3U"
      },
      "outputs": [],
      "source": [
        "choice = 0"
      ]
    },
    {
      "cell_type": "code",
      "execution_count": null,
      "metadata": {
        "id": "zS4lcVV1lV3V",
        "outputId": "8161d35c-db2b-4094-c3d8-70fb82bdce91"
      },
      "outputs": [
        {
          "name": "stdin",
          "output_type": "stream",
          "text": [
            "Your Question Here:  Hi, write python program for hello world\n"
          ]
        },
        {
          "data": {
            "text/markdown": [
              "```python\n",
              "print(\"Hello World!\")\n",
              "```\n",
              "\n",
              "This program prints the string \"Hello World!\" to the console. It is the most basic program in Python and is often used to test that Python is properly installed and configured.\n",
              "\n",
              "Here is a more detailed explanation of the code:\n",
              "\n",
              "* `print()` is a built-in function in Python that prints a value to the console.\n",
              "* `Hello World!` is the string that is being printed.\n",
              "* The program ends with a newline character, which is automatically added by the `print()` function. This causes the output to be printed on a new line.\n",
              "\n",
              "You can run this program by opening a terminal window and typing the following command:\n",
              "\n",
              "```\n",
              "python hello_world.py\n",
              "```\n",
              "\n",
              "This will run the Python interpreter and execute the code in the `hello_world.py` file. You should see the output \"Hello World!\" printed to the console."
            ],
            "text/plain": [
              "<IPython.core.display.Markdown object>"
            ]
          },
          "metadata": {},
          "output_type": "display_data"
        },
        {
          "name": "stdout",
          "output_type": "stream",
          "text": [
            "\n",
            "\n",
            "\u001b[33mTo continue conversation type \"1\" else type \"2\"\u001b[0m\n",
            "\u001b[31m\u001b[6;1mAny other response will continue the conversation \u001b[0m \n"
          ]
        },
        {
          "name": "stdin",
          "output_type": "stream",
          "text": [
            "\n",
            "Enter your choice here 1\n"
          ]
        },
        {
          "name": "stdout",
          "output_type": "stream",
          "text": [
            "\n"
          ]
        },
        {
          "name": "stdin",
          "output_type": "stream",
          "text": [
            "Your Question Here:  Write java program for hello world\n"
          ]
        },
        {
          "data": {
            "text/markdown": [
              "```java\n",
              "public class HelloWorld {\n",
              "\n",
              "    public static void main(String[] args) {\n",
              "        System.out.println(\"Hello World!\");\n",
              "    }\n",
              "}\n",
              "```\n",
              "\n",
              "This program prints the string \"Hello World!\" to the console. It is the most basic program in Java and is often used to test that Java is properly installed and configured.\n",
              "\n",
              "Here is a more detailed explanation of the code:\n",
              "\n",
              "* `public class HelloWorld` defines a public class named `HelloWorld`.\n",
              "* `public static void main(String[] args)` is the main method of the program. This is where the program starts executing.\n",
              "* `System.out.println(\"Hello World!\")` prints the string \"Hello World!\" to the console.\n",
              "* The program ends with a curly brace, which indicates the end of the `main()` method and the `HelloWorld` class.\n",
              "\n",
              "You can run this program by compiling and executing the Java source code. Here are the steps:\n",
              "\n",
              "1. Open a terminal window and navigate to the directory where the `HelloWorld.java` file is located.\n",
              "2. Compile the Java source code using the following command:\n",
              "\n",
              "```\n",
              "javac HelloWorld.java\n",
              "```\n",
              "\n",
              "This will generate a class file named `HelloWorld.class`.\n",
              "\n",
              "3. Execute the Java program using the following command:\n",
              "\n",
              "```\n",
              "java HelloWorld\n",
              "```\n",
              "\n",
              "This will run the Java Virtual Machine (JVM) and execute the `HelloWorld` class. You should see the output \"Hello World!\" printed to the console.\n",
              "\n",
              "**Note:** Make sure that you have Java installed on your system and that the `JAVA_HOME` environment variable is set correctly."
            ],
            "text/plain": [
              "<IPython.core.display.Markdown object>"
            ]
          },
          "metadata": {},
          "output_type": "display_data"
        },
        {
          "name": "stdout",
          "output_type": "stream",
          "text": [
            "\n",
            "\n",
            "\u001b[33mTo continue conversation type \"1\" else type \"2\"\u001b[0m\n",
            "\u001b[31m\u001b[6;1mAny other response will continue the conversation \u001b[0m \n"
          ]
        },
        {
          "name": "stdin",
          "output_type": "stream",
          "text": [
            "\n",
            "Enter your choice here 2\n"
          ]
        },
        {
          "name": "stdout",
          "output_type": "stream",
          "text": [
            "\n",
            "\u001b[32mAs you selected 2 the chat has ended. \n",
            "Thank you, to restart chat, run this cell again.\n",
            "                  \u001b[0m\n"
          ]
        }
      ],
      "source": [
        "while(choice != 2):\n",
        "    try:\n",
        "        ques = input(\"Your Question Here: \")\n",
        "        response = chat.send_message(\n",
        "            ques)\n",
        "        display(Markdown(response.text))\n",
        "        print('\\n\\n\\x1b[33mTo continue conversation type \"1\" else type \"2\"\\x1b[0m')\n",
        "        print('\\x1b[31m\\x1b[6;1mAny other response will continue the conversation \\x1b[0m ')\n",
        "        choice = int(input('\\nEnter your choice here'))\n",
        "        print()\n",
        "        if(choice == 2):\n",
        "            print(\"\"\"\\x1b[32mAs you selected 2 the chat has ended. \\nThank you, to restart chat, run this cell again.\n",
        "                  \\x1b[0m\"\"\")\n",
        "            choice = 0\n",
        "            break\n",
        "    except Exception as e:\n",
        "        print(\"\\n\\n\",e)"
      ]
    },
    {
      "cell_type": "markdown",
      "source": [
        "<div align=\"center\">\n",
        "\n",
        "  Thank you for joining us at AI/ML track at DevFest Surat 2023, hope to see you next year too!\n",
        "</div>\n",
        "\n",
        "<p align=\"center\">\n",
        "  <img src=\"https://i.pinimg.com/originals/2b/a7/17/2ba717ac010d3b9f8d26e9db4da291b8.jpg\" alt=\"X.com/akajammythakkar\" width=\"20\" height=\"20\">\n",
        "  <img src=\"https://w7.pngwing.com/pngs/521/488/png-transparent-logo-computer-icons-instagram-logo-miscellaneous-text-logo.png\" alt=\"instagram.com/akajammythakkar\" width=\"20\" height=\"20\">\n",
        "  <img src=\"https://w7.pngwing.com/pngs/490/260/png-transparent-email-email-thumbnail.png\" alt=\"akajammythakkar@gmail.com\" width=\"20\" height=\"20\">\n",
        "  <img src=\"https://w7.pngwing.com/pngs/940/589/png-transparent-linkedin-free-text-telephone-call-trademark-thumbnail.png\" alt=\"linkedin.com/in/akajammythakkar\" width=\"20\" height=\"20\">\n",
        "  <a href=\"https://akajammythakkar.dev\" target=\"_blank\">@akajammythakkar</a>\n",
        "</p>\n"
      ],
      "metadata": {
        "id": "-IU1IhMBotF-"
      }
    },
    {
      "cell_type": "code",
      "source": [],
      "metadata": {
        "id": "jmlg2SCYqYD0"
      },
      "execution_count": null,
      "outputs": []
    }
  ],
  "metadata": {
    "colab": {
      "provenance": [],
      "include_colab_link": true
    },
    "kernelspec": {
      "display_name": "Python 3 (ipykernel)",
      "language": "python",
      "name": "python3"
    },
    "language_info": {
      "codemirror_mode": {
        "name": "ipython",
        "version": 3
      },
      "file_extension": ".py",
      "mimetype": "text/x-python",
      "name": "python",
      "nbconvert_exporter": "python",
      "pygments_lexer": "ipython3",
      "version": "3.11.5"
    }
  },
  "nbformat": 4,
  "nbformat_minor": 0
}