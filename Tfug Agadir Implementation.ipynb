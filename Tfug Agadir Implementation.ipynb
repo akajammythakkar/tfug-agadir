{
  "cells": [
    {
      "cell_type": "markdown",
      "metadata": {
        "id": "view-in-github",
        "colab_type": "text"
      },
      "source": [
        "<a href=\"https://colab.research.google.com/github/akajammythakkar/tfug-agadir/blob/main/Tfug%20Agadir%20Implementation.ipynb\" target=\"_parent\"><img src=\"https://colab.research.google.com/assets/colab-badge.svg\" alt=\"Open In Colab\"/></a>"
      ]
    },
    {
      "cell_type": "markdown",
      "source": [
        "# Before proceeding, go to \"File\" and select option \"Save a copy in drive\" then and only then proceed. YOU WILL NOT BE ABLE TO SAVE CHANGES IN THIS NOTEBOOK"
      ],
      "metadata": {
        "id": "bP828NbQpWHc"
      }
    },
    {
      "cell_type": "markdown",
      "metadata": {
        "id": "rlE8UqxrDIez"
      },
      "source": [
        "### Install & import\n"
      ]
    },
    {
      "cell_type": "markdown",
      "metadata": {
        "id": "cZiU4TKzznh9",
        "outputId": "3971b7a3-422b-4c14-de90-4589a5b19eb2"
      },
      "source": [
        "!pip install google-generativeai"
      ]
    },
    {
      "cell_type": "code",
      "execution_count": 2,
      "metadata": {
        "id": "kWIuwKG2_oWE"
      },
      "outputs": [],
      "source": [
        "# Install the client library and import necessary modules.\n",
        "#!pip install google-generativeai\n",
        "import google.generativeai as genai\n",
        "import json\n",
        "import pathlib\n",
        "import pprint\n",
        "import requests\n",
        "import mimetypes\n",
        "from IPython.display import Markdown"
      ]
    },
    {
      "cell_type": "markdown",
      "metadata": {
        "id": "Fet3lFjdKHEM"
      },
      "source": [
        "## Set the API key"
      ]
    },
    {
      "cell_type": "markdown",
      "metadata": {
        "id": "ZoRWILAtCzBE"
      },
      "source": [
        "\n",
        "## **Add your API_KEY to the secrets manager in the left pannel \"🔑\".**\n",
        "\n",
        "#### To get api key follw the steps:\n",
        "  - go to makersuite.google.com\n",
        "  - If you are a first time user then you'll be asked for privacy and agreement\n",
        "  - After accepting navigate to the left panel.\n",
        "  - You will find a button saying \"Get API Key\" placed exactly below google ai studio, click that.\n",
        "  - Then you will be redirected to API keys page.\n",
        "  - There will be a button saying \"Create API key in new project\", click that.\n",
        "  - After that you will get your api key in few moments.\n",
        "  - Copy that and paste it in key secrets in google colab."
      ]
    },
    {
      "cell_type": "code",
      "source": [
        "from google.colab import userdata\n",
        "\n",
        "API_KEY=userdata.get('API_KEY')"
      ],
      "metadata": {
        "id": "aGrhHbD0huBL"
      },
      "execution_count": 3,
      "outputs": []
    },
    {
      "cell_type": "code",
      "execution_count": 4,
      "metadata": {
        "id": "_SvYoR3WCeKr"
      },
      "outputs": [],
      "source": [
        "# Configure the client library by providing your API key.\n",
        "genai.configure(api_key=API_KEY)"
      ]
    },
    {
      "cell_type": "markdown",
      "metadata": {
        "id": "weo-o73WDpdm"
      },
      "source": [
        "### Parse the arguments"
      ]
    },
    {
      "cell_type": "code",
      "execution_count": 5,
      "metadata": {
        "colab": {
          "base_uri": "https://localhost:8080/",
          "height": 227
        },
        "id": "sdf61R_WGgUx",
        "outputId": "aab1ae38-3844-4140-a354-883c9b19b2ab"
      },
      "outputs": [
        {
          "output_type": "display_data",
          "data": {
            "text/plain": [
              "<IPython.core.display.Markdown object>"
            ],
            "text/markdown": "Hello there, TFUG Aagadir! I'm Gemini, a multimodal AI model, developed by Google. I may not be physically present in Aagadir, but I'm always available to assist you with a wide range of topics and questions.\n\nWhether you need help with coding, debugging, understanding technical concepts, or just want to chat about the latest advancements in AI, feel free to ask. I'm here to support your learning and development journey.\n\nI may not have a physical presence in Aagadir, but I'm always available to assist you with a wide range of topics and questions. Whether you need help with coding, debugging, understanding technical concepts, or just want to chat about the latest advancements in AI, feel free to ask. I'm here to support your learning and development journey.\n\nIn addition to technical assistance, I can also provide you with information about Aagadir, its culture, history, and attractions. I can suggest things to do, places to visit, and help you plan your trip.\n\nI'm excited to connect with you and be a part of your learning experience. Let's get started!"
          },
          "metadata": {}
        }
      ],
      "source": [
        "generation_config = {\n",
        "  \"temperature\": 0.9,\n",
        "  \"top_p\": 1,\n",
        "  \"top_k\": 1,\n",
        "  \"max_output_tokens\": 2048,\n",
        "}\n",
        "\n",
        "safety_settings = [\n",
        "  {\n",
        "    \"category\": \"HARM_CATEGORY_HARASSMENT\",\n",
        "    \"threshold\": \"BLOCK_MEDIUM_AND_ABOVE\"\n",
        "  },\n",
        "  {\n",
        "    \"category\": \"HARM_CATEGORY_HATE_SPEECH\",\n",
        "    \"threshold\": \"BLOCK_MEDIUM_AND_ABOVE\"\n",
        "  },\n",
        "  {\n",
        "    \"category\": \"HARM_CATEGORY_SEXUALLY_EXPLICIT\",\n",
        "    \"threshold\": \"BLOCK_MEDIUM_AND_ABOVE\"\n",
        "  },\n",
        "  {\n",
        "    \"category\": \"HARM_CATEGORY_DANGEROUS_CONTENT\",\n",
        "    \"threshold\": \"BLOCK_MEDIUM_AND_ABOVE\"\n",
        "  }\n",
        "]\n",
        "\n",
        "model = genai.GenerativeModel(model_name=\"gemini-pro\",\n",
        "                              generation_config=generation_config,\n",
        "                              safety_settings=safety_settings)\n",
        "\n",
        "prompt_parts = [\"Hello from TFUG Aagadir\"]\n",
        "\n",
        "response = model.generate_content(prompt_parts)\n",
        "display(Markdown(response.text))"
      ]
    },
    {
      "cell_type": "markdown",
      "metadata": {
        "id": "E7zAD69vE92b"
      },
      "source": [
        "### Call the API"
      ]
    },
    {
      "cell_type": "code",
      "execution_count": 6,
      "metadata": {
        "id": "LB2LxPmAB95V"
      },
      "outputs": [],
      "source": [
        "# Call the model and print the response.\n",
        "gemini =  genai.GenerativeModel(model_name=\"gemini-pro\",\n",
        "                              generation_config=generation_config,\n",
        "                              safety_settings=safety_settings)"
      ]
    },
    {
      "cell_type": "code",
      "execution_count": 7,
      "metadata": {
        "id": "lqMoCCRAlV3T"
      },
      "outputs": [],
      "source": [
        "chat = gemini.start_chat()"
      ]
    },
    {
      "cell_type": "code",
      "execution_count": 8,
      "metadata": {
        "id": "4TG6RiVDlV3U"
      },
      "outputs": [],
      "source": [
        "choice = 0"
      ]
    },
    {
      "cell_type": "code",
      "execution_count": 9,
      "metadata": {
        "id": "zS4lcVV1lV3V",
        "outputId": "42a71f78-87e2-48fd-fe21-6683d884d666",
        "colab": {
          "base_uri": "https://localhost:8080/",
          "height": 278
        }
      },
      "outputs": [
        {
          "name": "stdout",
          "output_type": "stream",
          "text": [
            "Your Question Here: HI, How are you?\n"
          ]
        },
        {
          "output_type": "display_data",
          "data": {
            "text/plain": [
              "<IPython.core.display.Markdown object>"
            ],
            "text/markdown": "I am well, thank you for asking. I am a large language model, trained by Google. I do not have personal experiences or feelings, but I am designed to provide information and assist users to the best of my abilities.\n\nHow are you doing today? Is there anything I can help you with?"
          },
          "metadata": {}
        },
        {
          "output_type": "stream",
          "name": "stdout",
          "text": [
            "\n",
            "\n",
            "\u001b[33mTo continue conversation type \"1\" else type \"2\"\u001b[0m\n",
            "\u001b[31m\u001b[6;1mAny other response will continue the conversation \u001b[0m \n",
            "\n",
            "Enter your choice here2\n",
            "\n",
            "\u001b[32mAs you selected 2 the chat has ended. \n",
            "Thank you, to restart chat, run this cell again.\n",
            "                  \u001b[0m\n"
          ]
        }
      ],
      "source": [
        "while(choice != 2):\n",
        "    try:\n",
        "        ques = input(\"Your Question Here: \")\n",
        "        response = chat.send_message(\n",
        "            ques)\n",
        "        display(Markdown(response.text))\n",
        "        print('\\n\\n\\x1b[33mTo continue conversation type \"1\" else type \"2\"\\x1b[0m')\n",
        "        print('\\x1b[31m\\x1b[6;1mAny other response will continue the conversation \\x1b[0m ')\n",
        "        choice = int(input('\\nEnter your choice here'))\n",
        "        print()\n",
        "        if(choice == 2):\n",
        "            print(\"\"\"\\x1b[32mAs you selected 2 the chat has ended. \\nThank you, to restart chat, run this cell again.\n",
        "                  \\x1b[0m\"\"\")\n",
        "            choice = 0\n",
        "            break\n",
        "    except Exception as e:\n",
        "        print(\"\\n\\n\",e)"
      ]
    },
    {
      "cell_type": "markdown",
      "source": [
        "<div align=\"center\">\n",
        "\n",
        "  Thank you for joining us at TFUG Agadir, hope to see you soon!\n",
        "</div>\n",
        "\n",
        "<p align=\"center\">\n",
        "  <img src=\"https://i.pinimg.com/originals/2b/a7/17/2ba717ac010d3b9f8d26e9db4da291b8.jpg\" alt=\"X.com/akajammythakkar\" width=\"20\" height=\"20\">\n",
        "  <img src=\"https://w7.pngwing.com/pngs/521/488/png-transparent-logo-computer-icons-instagram-logo-miscellaneous-text-logo.png\" alt=\"instagram.com/akajammythakkar\" width=\"20\" height=\"20\">\n",
        "  <img src=\"https://w7.pngwing.com/pngs/490/260/png-transparent-email-email-thumbnail.png\" alt=\"akajammythakkar@gmail.com\" width=\"20\" height=\"20\">\n",
        "  <img src=\"https://w7.pngwing.com/pngs/940/589/png-transparent-linkedin-free-text-telephone-call-trademark-thumbnail.png\" alt=\"linkedin.com/in/akajammythakkar\" width=\"20\" height=\"20\">\n",
        "  <a href=\"https://akajammythakkar.dev\" target=\"_blank\">@akajammythakkar</a>\n",
        "</p>\n"
      ],
      "metadata": {
        "id": "-IU1IhMBotF-"
      }
    },
    {
      "cell_type": "code",
      "source": [],
      "metadata": {
        "id": "jmlg2SCYqYD0"
      },
      "execution_count": null,
      "outputs": []
    }
  ],
  "metadata": {
    "colab": {
      "provenance": [],
      "include_colab_link": true
    },
    "kernelspec": {
      "display_name": "Python 3 (ipykernel)",
      "language": "python",
      "name": "python3"
    },
    "language_info": {
      "codemirror_mode": {
        "name": "ipython",
        "version": 3
      },
      "file_extension": ".py",
      "mimetype": "text/x-python",
      "name": "python",
      "nbconvert_exporter": "python",
      "pygments_lexer": "ipython3",
      "version": "3.11.5"
    }
  },
  "nbformat": 4,
  "nbformat_minor": 0
}